{
  "nbformat": 4,
  "nbformat_minor": 0,
  "metadata": {
    "colab": {
      "name": "Task 2 - Stock Market Prediction",
      "provenance": []
    },
    "kernelspec": {
      "display_name": "Python 3",
      "name": "python3"
    },
    "language_info": {
      "name": "python"
    }
  },
  "cells": [
    {
      "cell_type": "markdown",
      "metadata": {
        "id": "HCYhw58-ANRS"
      },
      "source": [
        "\n",
        "\n",
        "---\n",
        "# **Task 2 - Stock Market Prediction and Forecasting using Stacked LSTM**\n",
        "---\n",
        "\n",
        "\n"
      ]
    },
    {
      "cell_type": "markdown",
      "metadata": {
        "id": "FsO-4q4iVde9"
      },
      "source": [
        "---\n",
        "# **Name : Kaviya Sri A.N**\n",
        "---"
      ]
    },
    {
      "cell_type": "markdown",
      "metadata": {
        "id": "qU0eMN17Wzs6"
      },
      "source": [
        "## **Importing the Libraries**"
      ]
    },
    {
      "cell_type": "code",
      "metadata": {
        "id": "Dh1zfq8AHIMn"
      },
      "source": [
        "import math\n",
        "import numpy as np\n",
        "import pandas as pd\n",
        "import matplotlib.pyplot as plt"
      ],
      "execution_count": null,
      "outputs": []
    },
    {
      "cell_type": "code",
      "metadata": {
        "colab": {
          "base_uri": "https://localhost:8080/",
          "height": 204
        },
        "id": "NQ3Ongjtdnr0",
        "outputId": "251cf884-1bf5-4863-b374-716d672579e6"
      },
      "source": [
        "url = \"https://raw.githubusercontent.com/mwitiderrick/stockprice/master/NSE-TATAGLOBAL.csv\"\n",
        "train_dataset = pd.read_csv(url)\n",
        "training_set = train_dataset.iloc[:,1:2].values\n",
        "train_dataset.head()"
      ],
      "execution_count": null,
      "outputs": [
        {
          "output_type": "execute_result",
          "data": {
            "text/html": [
              "<div>\n",
              "<style scoped>\n",
              "    .dataframe tbody tr th:only-of-type {\n",
              "        vertical-align: middle;\n",
              "    }\n",
              "\n",
              "    .dataframe tbody tr th {\n",
              "        vertical-align: top;\n",
              "    }\n",
              "\n",
              "    .dataframe thead th {\n",
              "        text-align: right;\n",
              "    }\n",
              "</style>\n",
              "<table border=\"1\" class=\"dataframe\">\n",
              "  <thead>\n",
              "    <tr style=\"text-align: right;\">\n",
              "      <th></th>\n",
              "      <th>Date</th>\n",
              "      <th>Open</th>\n",
              "      <th>High</th>\n",
              "      <th>Low</th>\n",
              "      <th>Last</th>\n",
              "      <th>Close</th>\n",
              "      <th>Total Trade Quantity</th>\n",
              "      <th>Turnover (Lacs)</th>\n",
              "    </tr>\n",
              "  </thead>\n",
              "  <tbody>\n",
              "    <tr>\n",
              "      <th>0</th>\n",
              "      <td>2018-09-28</td>\n",
              "      <td>234.05</td>\n",
              "      <td>235.95</td>\n",
              "      <td>230.20</td>\n",
              "      <td>233.50</td>\n",
              "      <td>233.75</td>\n",
              "      <td>3069914</td>\n",
              "      <td>7162.35</td>\n",
              "    </tr>\n",
              "    <tr>\n",
              "      <th>1</th>\n",
              "      <td>2018-09-27</td>\n",
              "      <td>234.55</td>\n",
              "      <td>236.80</td>\n",
              "      <td>231.10</td>\n",
              "      <td>233.80</td>\n",
              "      <td>233.25</td>\n",
              "      <td>5082859</td>\n",
              "      <td>11859.95</td>\n",
              "    </tr>\n",
              "    <tr>\n",
              "      <th>2</th>\n",
              "      <td>2018-09-26</td>\n",
              "      <td>240.00</td>\n",
              "      <td>240.00</td>\n",
              "      <td>232.50</td>\n",
              "      <td>235.00</td>\n",
              "      <td>234.25</td>\n",
              "      <td>2240909</td>\n",
              "      <td>5248.60</td>\n",
              "    </tr>\n",
              "    <tr>\n",
              "      <th>3</th>\n",
              "      <td>2018-09-25</td>\n",
              "      <td>233.30</td>\n",
              "      <td>236.75</td>\n",
              "      <td>232.00</td>\n",
              "      <td>236.25</td>\n",
              "      <td>236.10</td>\n",
              "      <td>2349368</td>\n",
              "      <td>5503.90</td>\n",
              "    </tr>\n",
              "    <tr>\n",
              "      <th>4</th>\n",
              "      <td>2018-09-24</td>\n",
              "      <td>233.55</td>\n",
              "      <td>239.20</td>\n",
              "      <td>230.75</td>\n",
              "      <td>234.00</td>\n",
              "      <td>233.30</td>\n",
              "      <td>3423509</td>\n",
              "      <td>7999.55</td>\n",
              "    </tr>\n",
              "  </tbody>\n",
              "</table>\n",
              "</div>"
            ],
            "text/plain": [
              "         Date    Open    High  ...   Close  Total Trade Quantity  Turnover (Lacs)\n",
              "0  2018-09-28  234.05  235.95  ...  233.75               3069914          7162.35\n",
              "1  2018-09-27  234.55  236.80  ...  233.25               5082859         11859.95\n",
              "2  2018-09-26  240.00  240.00  ...  234.25               2240909          5248.60\n",
              "3  2018-09-25  233.30  236.75  ...  236.10               2349368          5503.90\n",
              "4  2018-09-24  233.55  239.20  ...  233.30               3423509          7999.55\n",
              "\n",
              "[5 rows x 8 columns]"
            ]
          },
          "metadata": {},
          "execution_count": 3
        }
      ]
    },
    {
      "cell_type": "code",
      "metadata": {
        "colab": {
          "base_uri": "https://localhost:8080/"
        },
        "id": "12CSBR7LeluL",
        "outputId": "358f6b79-5391-42c2-841e-7340eea85be4"
      },
      "source": [
        "close_data = train_dataset['Close']\n",
        "close_data"
      ],
      "execution_count": null,
      "outputs": [
        {
          "output_type": "execute_result",
          "data": {
            "text/plain": [
              "0       233.75\n",
              "1       233.25\n",
              "2       234.25\n",
              "3       236.10\n",
              "4       233.30\n",
              "         ...  \n",
              "2030    118.65\n",
              "2031    117.60\n",
              "2032    120.65\n",
              "2033    120.90\n",
              "2034    121.55\n",
              "Name: Close, Length: 2035, dtype: float64"
            ]
          },
          "metadata": {},
          "execution_count": 4
        }
      ]
    },
    {
      "cell_type": "code",
      "metadata": {
        "colab": {
          "base_uri": "https://localhost:8080/",
          "height": 282
        },
        "id": "0NPgaMGwe3a-",
        "outputId": "f6d2f551-97cd-4d5c-ec88-b175fd83db45"
      },
      "source": [
        "plt.plot(close_data)"
      ],
      "execution_count": null,
      "outputs": [
        {
          "output_type": "execute_result",
          "data": {
            "text/plain": [
              "[<matplotlib.lines.Line2D at 0x7f1620090350>]"
            ]
          },
          "metadata": {},
          "execution_count": 5
        },
        {
          "output_type": "display_data",
          "data": {
            "image/png": "[encoded data removed]",
            "text/plain": [
              "<Figure size 432x288 with 1 Axes>"
            ]
          },
          "metadata": {
            "needs_background": "light"
          }
        }
      ]
    },
    {
      "cell_type": "markdown",
      "metadata": {
        "id": "xDHm8Bubfb4k"
      },
      "source": [
        "MinMaxScaler must be applied to transform our values between 0 and 1 since LSTM is ssensitive to the scale."
      ]
    },
    {
      "cell_type": "markdown",
      "metadata": {
        "id": "ht87siEYfIvN"
      },
      "source": [
        "## **Normalization of Data**"
      ]
    },
    {
      "cell_type": "code",
      "metadata": {
        "colab": {
          "base_uri": "https://localhost:8080/"
        },
        "id": "1FZz6yYRfM6H",
        "outputId": "2dc492da-6988-4350-f79b-7cd772124360"
      },
      "source": [
        "from sklearn.preprocessing import MinMaxScaler\n",
        "scaler = MinMaxScaler(feature_range=(0,1))\n",
        "close_data = scaler.fit_transform(np.array(close_data).reshape(-1,1))\n",
        "close_data.shape"
      ],
      "execution_count": null,
      "outputs": [
        {
          "output_type": "execute_result",
          "data": {
            "text/plain": [
              "(2035, 1)"
            ]
          },
          "metadata": {},
          "execution_count": 6
        }
      ]
    },
    {
      "cell_type": "code",
      "metadata": {
        "colab": {
          "base_uri": "https://localhost:8080/"
        },
        "id": "6XlYwTfQgg3w",
        "outputId": "f68ae973-ee43-4421-8efe-d707346023be"
      },
      "source": [
        "print(close_data)"
      ],
      "execution_count": null,
      "outputs": [
        {
          "output_type": "stream",
          "name": "stdout",
          "text": [
            "[[0.62418301]\n",
            " [0.62214052]\n",
            " [0.62622549]\n",
            " ...\n",
            " [0.1621732 ]\n",
            " [0.16319444]\n",
            " [0.16584967]]\n"
          ]
        }
      ]
    },
    {
      "cell_type": "markdown",
      "metadata": {
        "id": "6bBC-WZBg0z8"
      },
      "source": [
        "## **Splitting the Dataset into Train and Test Sets**"
      ]
    },
    {
      "cell_type": "code",
      "metadata": {
        "id": "bmdfbwfcg3gg"
      },
      "source": [
        "train_size = int(len(close_data)*0.75)\n",
        "test_size = len(close_data) - train_size\n",
        "train_data,test_data = close_data[0:train_size,:],close_data[train_size:len(close_data),:1]"
      ],
      "execution_count": null,
      "outputs": []
    },
    {
      "cell_type": "code",
      "metadata": {
        "id": "_MUkebgZj-i7"
      },
      "source": [
        "def create_dataset(dataset,time_step = 1):\n",
        "    dataX,dataY = [],[]\n",
        "    for i in range(len(dataset) - time_step - 1):\n",
        "        a = dataset[i:(i+time_step),0]\n",
        "        dataX.append(a)\n",
        "        dataY.append(dataset[i+time_step,0])\n",
        "    return np.array(dataX), np.array(dataY) "
      ],
      "execution_count": null,
      "outputs": []
    },
    {
      "cell_type": "code",
      "metadata": {
        "id": "l7ipsUWx-Dlr"
      },
      "source": [
        "time_step = 100\n",
        "x_train, y_train = create_dataset(train_data,time_step)\n",
        "x_test, y_test = create_dataset(test_data,time_step)"
      ],
      "execution_count": null,
      "outputs": []
    },
    {
      "cell_type": "markdown",
      "metadata": {
        "id": "3eV3sZUoAWi7"
      },
      "source": [
        "## **Reshaping the Input**"
      ]
    },
    {
      "cell_type": "code",
      "metadata": {
        "id": "c3T2HVMTAkCZ"
      },
      "source": [
        "x_train = x_train.reshape(x_train.shape[0], x_train.shape[1], 1)\n",
        "x_test = x_test.reshape(x_test.shape[0], x_test.shape[1], 1)"
      ],
      "execution_count": null,
      "outputs": []
    },
    {
      "cell_type": "markdown",
      "metadata": {
        "id": "MUUtPV33AlpY"
      },
      "source": [
        "## **Creating the LSTM Model**"
      ]
    },
    {
      "cell_type": "code",
      "metadata": {
        "colab": {
          "base_uri": "https://localhost:8080/"
        },
        "id": "PIDGNg_EArKN",
        "outputId": "8f48acf3-0e88-4143-c02a-50445f5127af"
      },
      "source": [
        "from keras.models import Sequential\n",
        "from keras.layers import LSTM\n",
        "from keras.layers import Dropout\n",
        "from keras.layers import Dense\n",
        "model = Sequential()\n",
        "model.add(LSTM(50, return_sequences = True, input_shape = (100,1)))\n",
        "model.add(LSTM(50, return_sequences = True))\n",
        "model.add(LSTM(50))\n",
        "model.add(Dense(1))\n",
        "model.compile(loss = 'mean_squared_error', optimizer = 'adam')\n",
        "model.summary()"
      ],
      "execution_count": null,
      "outputs": [
        {
          "output_type": "stream",
          "name": "stdout",
          "text": [
            "Model: \"sequential\"\n",
            "_________________________________________________________________\n",
            "Layer (type)                 Output Shape              Param #   \n",
            "=================================================================\n",
            "lstm (LSTM)                  (None, 100, 50)           10400     \n",
            "_________________________________________________________________\n",
            "lstm_1 (LSTM)                (None, 100, 50)           20200     \n",
            "_________________________________________________________________\n",
            "lstm_2 (LSTM)                (None, 50)                20200     \n",
            "_________________________________________________________________\n",
            "dense (Dense)                (None, 1)                 51        \n",
            "=================================================================\n",
            "Total params: 50,851\n",
            "Trainable params: 50,851\n",
            "Non-trainable params: 0\n",
            "_________________________________________________________________\n"
          ]
        }
      ]
    },
    {
      "cell_type": "code",
      "metadata": {
        "colab": {
          "base_uri": "https://localhost:8080/"
        },
        "id": "4yJ-81ZvChAT",
        "outputId": "d27f8991-d7e1-486b-cefc-76a4febe0a23"
      },
      "source": [
        "model.fit(x_train, y_train, validation_data=(x_test,y_test), epochs=100, batch_size=64, verbose=1)"
      ],
      "execution_count": null,
      "outputs": [
        {
          "output_type": "stream",
          "name": "stdout",
          "text": [
            "Epoch 1/100\n",
            "23/23 [==============================] - 12s 263ms/step - loss: 0.0211 - val_loss: 0.0076\n",
            "Epoch 2/100\n",
            "23/23 [==============================] - 5s 202ms/step - loss: 0.0025 - val_loss: 7.7175e-04\n",
            "Epoch 3/100\n",
            "23/23 [==============================] - 5s 198ms/step - loss: 0.0017 - val_loss: 0.0016\n",
            "Epoch 4/100\n",
            "23/23 [==============================] - 5s 201ms/step - loss: 0.0015 - val_loss: 0.0014\n",
            "Epoch 5/100\n",
            "23/23 [==============================] - 5s 199ms/step - loss: 0.0014 - val_loss: 0.0014\n",
            "Epoch 6/100\n",
            "23/23 [==============================] - 5s 199ms/step - loss: 0.0013 - val_loss: 0.0011\n",
            "Epoch 7/100\n",
            "23/23 [==============================] - 5s 199ms/step - loss: 0.0013 - val_loss: 0.0011\n",
            "Epoch 8/100\n",
            "23/23 [==============================] - 5s 199ms/step - loss: 0.0011 - val_loss: 0.0011\n",
            "Epoch 9/100\n",
            "23/23 [==============================] - 5s 201ms/step - loss: 0.0011 - val_loss: 0.0012\n",
            "Epoch 10/100\n",
            "23/23 [==============================] - 5s 200ms/step - loss: 0.0011 - val_loss: 0.0010\n",
            "Epoch 11/100\n",
            "23/23 [==============================] - 5s 200ms/step - loss: 9.9367e-04 - val_loss: 0.0011\n",
            "Epoch 12/100\n",
            "23/23 [==============================] - 5s 199ms/step - loss: 9.7890e-04 - val_loss: 8.2263e-04\n",
            "Epoch 13/100\n",
            "23/23 [==============================] - 5s 201ms/step - loss: 9.9993e-04 - val_loss: 0.0011\n",
            "Epoch 14/100\n",
            "23/23 [==============================] - 5s 200ms/step - loss: 0.0014 - val_loss: 0.0011\n",
            "Epoch 15/100\n",
            "23/23 [==============================] - 5s 201ms/step - loss: 0.0011 - val_loss: 9.8776e-04\n",
            "Epoch 16/100\n",
            "23/23 [==============================] - 5s 199ms/step - loss: 8.5888e-04 - val_loss: 7.7084e-04\n",
            "Epoch 17/100\n",
            "23/23 [==============================] - 5s 200ms/step - loss: 8.8053e-04 - val_loss: 6.2640e-04\n",
            "Epoch 18/100\n",
            "23/23 [==============================] - 5s 200ms/step - loss: 8.9913e-04 - val_loss: 6.9816e-04\n",
            "Epoch 19/100\n",
            "23/23 [==============================] - 5s 201ms/step - loss: 8.2384e-04 - val_loss: 8.9431e-04\n",
            "Epoch 20/100\n",
            "23/23 [==============================] - 5s 202ms/step - loss: 8.5726e-04 - val_loss: 7.4421e-04\n",
            "Epoch 21/100\n",
            "23/23 [==============================] - 5s 203ms/step - loss: 7.9822e-04 - val_loss: 8.7637e-04\n",
            "Epoch 22/100\n",
            "23/23 [==============================] - 5s 203ms/step - loss: 7.2893e-04 - val_loss: 7.6862e-04\n",
            "Epoch 23/100\n",
            "23/23 [==============================] - 5s 199ms/step - loss: 8.0237e-04 - val_loss: 0.0011\n",
            "Epoch 24/100\n",
            "23/23 [==============================] - 5s 198ms/step - loss: 8.5995e-04 - val_loss: 6.2973e-04\n",
            "Epoch 25/100\n",
            "23/23 [==============================] - 5s 199ms/step - loss: 6.9944e-04 - val_loss: 9.6554e-04\n",
            "Epoch 26/100\n",
            "23/23 [==============================] - 5s 199ms/step - loss: 7.1886e-04 - val_loss: 8.7668e-04\n",
            "Epoch 27/100\n",
            "23/23 [==============================] - 5s 201ms/step - loss: 8.4331e-04 - val_loss: 9.3584e-04\n",
            "Epoch 28/100\n",
            "23/23 [==============================] - 5s 199ms/step - loss: 8.2221e-04 - val_loss: 6.6936e-04\n",
            "Epoch 29/100\n",
            "23/23 [==============================] - 5s 199ms/step - loss: 7.0026e-04 - val_loss: 6.6964e-04\n",
            "Epoch 30/100\n",
            "23/23 [==============================] - 5s 197ms/step - loss: 6.4667e-04 - val_loss: 8.2745e-04\n",
            "Epoch 31/100\n",
            "23/23 [==============================] - 5s 201ms/step - loss: 6.0873e-04 - val_loss: 6.1010e-04\n",
            "Epoch 32/100\n",
            "23/23 [==============================] - 5s 200ms/step - loss: 6.1552e-04 - val_loss: 4.9291e-04\n",
            "Epoch 33/100\n",
            "23/23 [==============================] - 5s 200ms/step - loss: 6.2745e-04 - val_loss: 5.8814e-04\n",
            "Epoch 34/100\n",
            "23/23 [==============================] - 5s 199ms/step - loss: 6.0654e-04 - val_loss: 6.1749e-04\n",
            "Epoch 35/100\n",
            "23/23 [==============================] - 5s 202ms/step - loss: 5.6574e-04 - val_loss: 5.1443e-04\n",
            "Epoch 36/100\n",
            "23/23 [==============================] - 5s 200ms/step - loss: 6.7008e-04 - val_loss: 0.0010\n",
            "Epoch 37/100\n",
            "23/23 [==============================] - 5s 199ms/step - loss: 7.1714e-04 - val_loss: 7.3360e-04\n",
            "Epoch 38/100\n",
            "23/23 [==============================] - 5s 201ms/step - loss: 5.8787e-04 - val_loss: 7.5730e-04\n",
            "Epoch 39/100\n",
            "23/23 [==============================] - 5s 200ms/step - loss: 5.6517e-04 - val_loss: 6.0100e-04\n",
            "Epoch 40/100\n",
            "23/23 [==============================] - 5s 200ms/step - loss: 6.0776e-04 - val_loss: 6.5830e-04\n",
            "Epoch 41/100\n",
            "23/23 [==============================] - 5s 201ms/step - loss: 5.5186e-04 - val_loss: 5.6960e-04\n",
            "Epoch 42/100\n",
            "23/23 [==============================] - 5s 200ms/step - loss: 5.2225e-04 - val_loss: 5.5838e-04\n",
            "Epoch 43/100\n",
            "23/23 [==============================] - 5s 202ms/step - loss: 5.2876e-04 - val_loss: 5.8218e-04\n",
            "Epoch 44/100\n",
            "23/23 [==============================] - 5s 201ms/step - loss: 5.4832e-04 - val_loss: 4.7305e-04\n",
            "Epoch 45/100\n",
            "23/23 [==============================] - 5s 201ms/step - loss: 5.2035e-04 - val_loss: 5.1536e-04\n",
            "Epoch 46/100\n",
            "23/23 [==============================] - 5s 200ms/step - loss: 4.9028e-04 - val_loss: 6.4213e-04\n",
            "Epoch 47/100\n",
            "23/23 [==============================] - 5s 201ms/step - loss: 4.8200e-04 - val_loss: 7.0524e-04\n",
            "Epoch 48/100\n",
            "23/23 [==============================] - 5s 203ms/step - loss: 4.8047e-04 - val_loss: 5.7085e-04\n",
            "Epoch 49/100\n",
            "23/23 [==============================] - 5s 201ms/step - loss: 4.6966e-04 - val_loss: 4.8329e-04\n",
            "Epoch 50/100\n",
            "23/23 [==============================] - 5s 198ms/step - loss: 4.6047e-04 - val_loss: 5.7675e-04\n",
            "Epoch 51/100\n",
            "23/23 [==============================] - 5s 201ms/step - loss: 4.5913e-04 - val_loss: 5.6022e-04\n",
            "Epoch 52/100\n",
            "23/23 [==============================] - 5s 202ms/step - loss: 4.3901e-04 - val_loss: 3.9717e-04\n",
            "Epoch 53/100\n",
            "23/23 [==============================] - 5s 201ms/step - loss: 4.4651e-04 - val_loss: 5.6520e-04\n",
            "Epoch 54/100\n",
            "23/23 [==============================] - 5s 201ms/step - loss: 4.4071e-04 - val_loss: 3.8825e-04\n",
            "Epoch 55/100\n",
            "23/23 [==============================] - 5s 200ms/step - loss: 4.4179e-04 - val_loss: 4.3664e-04\n",
            "Epoch 56/100\n",
            "23/23 [==============================] - 5s 202ms/step - loss: 4.1326e-04 - val_loss: 4.3388e-04\n",
            "Epoch 57/100\n",
            "23/23 [==============================] - 5s 200ms/step - loss: 4.0457e-04 - val_loss: 4.0675e-04\n",
            "Epoch 58/100\n",
            "23/23 [==============================] - 5s 202ms/step - loss: 4.2525e-04 - val_loss: 2.9448e-04\n",
            "Epoch 59/100\n",
            "23/23 [==============================] - 5s 201ms/step - loss: 4.9599e-04 - val_loss: 4.0505e-04\n",
            "Epoch 60/100\n",
            "23/23 [==============================] - 5s 201ms/step - loss: 4.8666e-04 - val_loss: 4.1645e-04\n",
            "Epoch 61/100\n",
            "23/23 [==============================] - 5s 205ms/step - loss: 3.9958e-04 - val_loss: 4.1018e-04\n",
            "Epoch 62/100\n",
            "23/23 [==============================] - 5s 199ms/step - loss: 4.5822e-04 - val_loss: 3.5590e-04\n",
            "Epoch 63/100\n",
            "23/23 [==============================] - 5s 204ms/step - loss: 3.7777e-04 - val_loss: 3.7855e-04\n",
            "Epoch 64/100\n",
            "23/23 [==============================] - 5s 200ms/step - loss: 3.9016e-04 - val_loss: 3.5034e-04\n",
            "Epoch 65/100\n",
            "23/23 [==============================] - 5s 202ms/step - loss: 3.6669e-04 - val_loss: 4.5008e-04\n",
            "Epoch 66/100\n",
            "23/23 [==============================] - 5s 202ms/step - loss: 3.8703e-04 - val_loss: 3.3623e-04\n",
            "Epoch 67/100\n",
            "23/23 [==============================] - 5s 202ms/step - loss: 3.9200e-04 - val_loss: 3.4880e-04\n",
            "Epoch 68/100\n",
            "23/23 [==============================] - 5s 202ms/step - loss: 4.2856e-04 - val_loss: 3.1063e-04\n",
            "Epoch 69/100\n",
            "23/23 [==============================] - 5s 200ms/step - loss: 3.7610e-04 - val_loss: 3.7561e-04\n",
            "Epoch 70/100\n",
            "23/23 [==============================] - 5s 203ms/step - loss: 3.3079e-04 - val_loss: 5.1549e-04\n",
            "Epoch 71/100\n",
            "23/23 [==============================] - 5s 203ms/step - loss: 3.3218e-04 - val_loss: 4.4591e-04\n",
            "Epoch 72/100\n",
            "23/23 [==============================] - 5s 203ms/step - loss: 3.4280e-04 - val_loss: 3.0455e-04\n",
            "Epoch 73/100\n",
            "23/23 [==============================] - 5s 201ms/step - loss: 4.2223e-04 - val_loss: 2.5407e-04\n",
            "Epoch 74/100\n",
            "23/23 [==============================] - 5s 204ms/step - loss: 3.5057e-04 - val_loss: 3.4818e-04\n",
            "Epoch 75/100\n",
            "23/23 [==============================] - 5s 200ms/step - loss: 3.5784e-04 - val_loss: 2.4921e-04\n",
            "Epoch 76/100\n",
            "23/23 [==============================] - 5s 201ms/step - loss: 3.5544e-04 - val_loss: 3.3796e-04\n",
            "Epoch 77/100\n",
            "23/23 [==============================] - 5s 201ms/step - loss: 3.1227e-04 - val_loss: 3.3404e-04\n",
            "Epoch 78/100\n",
            "23/23 [==============================] - 5s 201ms/step - loss: 3.7184e-04 - val_loss: 5.6780e-04\n",
            "Epoch 79/100\n",
            "23/23 [==============================] - 5s 203ms/step - loss: 4.5333e-04 - val_loss: 4.0411e-04\n",
            "Epoch 80/100\n",
            "23/23 [==============================] - 5s 201ms/step - loss: 2.8062e-04 - val_loss: 3.7854e-04\n",
            "Epoch 81/100\n",
            "23/23 [==============================] - 5s 203ms/step - loss: 2.7919e-04 - val_loss: 2.6902e-04\n",
            "Epoch 82/100\n",
            "23/23 [==============================] - 5s 201ms/step - loss: 2.6536e-04 - val_loss: 2.5108e-04\n",
            "Epoch 83/100\n",
            "23/23 [==============================] - 5s 204ms/step - loss: 2.6758e-04 - val_loss: 2.2845e-04\n",
            "Epoch 84/100\n",
            "23/23 [==============================] - 5s 201ms/step - loss: 2.6139e-04 - val_loss: 2.3468e-04\n",
            "Epoch 85/100\n",
            "23/23 [==============================] - 5s 201ms/step - loss: 2.9333e-04 - val_loss: 2.2023e-04\n",
            "Epoch 86/100\n",
            "23/23 [==============================] - 5s 203ms/step - loss: 3.4253e-04 - val_loss: 2.5647e-04\n",
            "Epoch 87/100\n",
            "23/23 [==============================] - 5s 205ms/step - loss: 2.7722e-04 - val_loss: 3.3986e-04\n",
            "Epoch 88/100\n",
            "23/23 [==============================] - 5s 204ms/step - loss: 2.8830e-04 - val_loss: 3.2197e-04\n",
            "Epoch 89/100\n",
            "23/23 [==============================] - 5s 201ms/step - loss: 2.7474e-04 - val_loss: 3.3651e-04\n",
            "Epoch 90/100\n",
            "23/23 [==============================] - 5s 202ms/step - loss: 2.5861e-04 - val_loss: 2.8161e-04\n",
            "Epoch 91/100\n",
            "23/23 [==============================] - 5s 201ms/step - loss: 2.4312e-04 - val_loss: 2.2848e-04\n",
            "Epoch 92/100\n",
            "23/23 [==============================] - 5s 203ms/step - loss: 2.5211e-04 - val_loss: 3.0507e-04\n",
            "Epoch 93/100\n",
            "23/23 [==============================] - 5s 201ms/step - loss: 2.4002e-04 - val_loss: 2.6375e-04\n",
            "Epoch 94/100\n",
            "23/23 [==============================] - 5s 201ms/step - loss: 2.4810e-04 - val_loss: 1.8237e-04\n",
            "Epoch 95/100\n",
            "23/23 [==============================] - 5s 201ms/step - loss: 2.6996e-04 - val_loss: 2.0174e-04\n",
            "Epoch 96/100\n",
            "23/23 [==============================] - 5s 202ms/step - loss: 2.5241e-04 - val_loss: 2.8216e-04\n",
            "Epoch 97/100\n",
            "23/23 [==============================] - 5s 202ms/step - loss: 2.3642e-04 - val_loss: 2.9563e-04\n",
            "Epoch 98/100\n",
            "23/23 [==============================] - 5s 200ms/step - loss: 2.3586e-04 - val_loss: 2.6267e-04\n",
            "Epoch 99/100\n",
            "23/23 [==============================] - 5s 203ms/step - loss: 2.3048e-04 - val_loss: 2.6665e-04\n",
            "Epoch 100/100\n",
            "23/23 [==============================] - 5s 203ms/step - loss: 2.2946e-04 - val_loss: 3.7599e-04\n"
          ]
        },
        {
          "output_type": "execute_result",
          "data": {
            "text/plain": [
              "<keras.callbacks.History at 0x7f15d4ceb590>"
            ]
          },
          "metadata": {},
          "execution_count": 13
        }
      ]
    },
    {
      "cell_type": "markdown",
      "metadata": {
        "id": "lf49pt42FT7y"
      },
      "source": [
        "## **Predicting and Testing Performance Metrics**"
      ]
    },
    {
      "cell_type": "code",
      "metadata": {
        "id": "2QA0pv7cFd3W"
      },
      "source": [
        "train_predict = model.predict(x_train)\n",
        "test_predict = model.predict(x_test)"
      ],
      "execution_count": null,
      "outputs": []
    },
    {
      "cell_type": "markdown",
      "metadata": {
        "id": "qmi-dRYJFvuv"
      },
      "source": [
        "## **Transforming back into original form**"
      ]
    },
    {
      "cell_type": "code",
      "metadata": {
        "id": "McQmrdH-GBBh"
      },
      "source": [
        "train_predict = scaler.inverse_transform(train_predict)\n",
        "test_predict = scaler.inverse_transform(test_predict)"
      ],
      "execution_count": null,
      "outputs": []
    },
    {
      "cell_type": "markdown",
      "metadata": {
        "id": "W2PI_MdSGlej"
      },
      "source": [
        "## **Calculating RMSE Performance metrics**"
      ]
    },
    {
      "cell_type": "code",
      "metadata": {
        "colab": {
          "base_uri": "https://localhost:8080/"
        },
        "id": "-XHH1D22Gtvb",
        "outputId": "922d64c9-66e5-4392-fb6d-56696ab58086"
      },
      "source": [
        "from sklearn.metrics import mean_squared_error\n",
        "math.sqrt(mean_squared_error(y_train, train_predict))"
      ],
      "execution_count": null,
      "outputs": [
        {
          "output_type": "execute_result",
          "data": {
            "text/plain": [
              "165.87076791352783"
            ]
          },
          "metadata": {},
          "execution_count": 18
        }
      ]
    },
    {
      "cell_type": "code",
      "metadata": {
        "colab": {
          "base_uri": "https://localhost:8080/"
        },
        "id": "iGd4SMGj9gXj",
        "outputId": "a78f498b-bd6f-48cf-cdfb-06983420bbac"
      },
      "source": [
        "math.sqrt(mean_squared_error(y_test, test_predict))"
      ],
      "execution_count": null,
      "outputs": [
        {
          "output_type": "execute_result",
          "data": {
            "text/plain": [
              "107.81624065901732"
            ]
          },
          "metadata": {},
          "execution_count": 20
        }
      ]
    },
    {
      "cell_type": "markdown",
      "metadata": {
        "id": "aqb7zfMS-HRP"
      },
      "source": [
        "## **Plotting**"
      ]
    },
    {
      "cell_type": "markdown",
      "metadata": {
        "id": "hpuOmzc8-SeI"
      },
      "source": [
        "### **1.Shift train prediction**"
      ]
    },
    {
      "cell_type": "code",
      "metadata": {
        "colab": {
          "base_uri": "https://localhost:8080/",
          "height": 265
        },
        "id": "-CXsV5Dx-DRU",
        "outputId": "c157b7cd-194c-4d6c-964b-fbb79c41ec9e"
      },
      "source": [
        "look_back = 100\n",
        "trainPredictPlot = np.empty_like(close_data)\n",
        "trainPredictPlot[:,:] = np.nan\n",
        "trainPredictPlot[look_back:len(train_predict) + look_back, :] = train_predict\n",
        "testPredictPlot = np.empty_like(close_data)\n",
        "testPredictPlot[:,:] = np.nan\n",
        "testPredictPlot[len(train_predict) + (look_back*2)+1:len(close_data)-1 ,:] = test_predict\n",
        "plt.plot(scaler.inverse_transform(close_data))\n",
        "plt.plot(trainPredictPlot)\n",
        "plt.plot(testPredictPlot)\n",
        "plt.show()"
      ],
      "execution_count": null,
      "outputs": [
        {
          "output_type": "display_data",
          "data": {
            "image/png": "[encoded data removed]",
            "text/plain": [
              "<Figure size 432x288 with 1 Axes>"
            ]
          },
          "metadata": {
            "needs_background": "light"
          }
        }
      ]
    },
    {
      "cell_type": "markdown",
      "metadata": {
        "id": "hxMAI7A7B4Ym"
      },
      "source": [
        "## **Predicting the Stock Price of the next 30 days**"
      ]
    },
    {
      "cell_type": "code",
      "metadata": {
        "colab": {
          "base_uri": "https://localhost:8080/"
        },
        "id": "0YCpq32gCCRx",
        "outputId": "ed76889d-407d-4b75-bf70-8a7ba426c419"
      },
      "source": [
        "len(test_data),x_test.shape"
      ],
      "execution_count": null,
      "outputs": [
        {
          "output_type": "execute_result",
          "data": {
            "text/plain": [
              "(509, (408, 100, 1))"
            ]
          },
          "metadata": {},
          "execution_count": 23
        }
      ]
    },
    {
      "cell_type": "code",
      "metadata": {
        "colab": {
          "base_uri": "https://localhost:8080/"
        },
        "id": "aL1VAqEiCJ6l",
        "outputId": "399fba18-2e01-400d-cf6f-568b64729da5"
      },
      "source": [
        "x_input = test_data[409:].reshape(1,-1)\n",
        "x_input.shape"
      ],
      "execution_count": null,
      "outputs": [
        {
          "output_type": "execute_result",
          "data": {
            "text/plain": [
              "(1, 100)"
            ]
          },
          "metadata": {},
          "execution_count": 24
        }
      ]
    },
    {
      "cell_type": "code",
      "metadata": {
        "id": "xkW7BNKmCimt"
      },
      "source": [
        "temp_input = list(x_input)\n",
        "temp_input = temp_input[0].tolist()"
      ],
      "execution_count": null,
      "outputs": []
    },
    {
      "cell_type": "code",
      "metadata": {
        "colab": {
          "base_uri": "https://localhost:8080/"
        },
        "id": "cvrWW4EqCsoB",
        "outputId": "82abe435-88bb-4ad7-de3e-a9ea58d7010b"
      },
      "source": [
        "list_out = []\n",
        "n_steps = 100\n",
        "days = 30\n",
        "i = 0\n",
        "while(i<days):\n",
        "    if(len(temp_input)>100):\n",
        "        x_input=np.array(temp_input[1:])\n",
        "        print(\"{} day input {}\".format(i,x_input))\n",
        "        x_input=x_input.reshape(1,-1)\n",
        "        x_input=x_input.reshape((1,n_steps,1))\n",
        "        yhat = model.predict(x_input,verbose=0)\n",
        "        print(\"{} day input {}\".format(i,yhat))\n",
        "        temp_input.extend(yhat[0].tolist())\n",
        "        temp_input=temp_input[1:]\n",
        "        list_out.extend(yhat.tolist())\n",
        "        i=i+1\n",
        "    else:\n",
        "        x_input=x_input.reshape((1,n_steps,1))\n",
        "        yhat = model.predict(x_input,verbose=0)\n",
        "        print(yhat[0])\n",
        "        temp_input.extend(yhat[0].tolist())\n",
        "        list_out.extend(yhat.tolist())\n",
        "        i=i+1"
      ],
      "execution_count": null,
      "outputs": [
        {
          "output_type": "stream",
          "name": "stdout",
          "text": [
            "[0.17401502]\n",
            "1 day input [0.13848039 0.14011438 0.13888889 0.13541667 0.14011438 0.1380719\n",
            " 0.13071895 0.13071895 0.12867647 0.11846405 0.14644608 0.14808007\n",
            " 0.15910948 0.15992647 0.15788399 0.16441993 0.17892157 0.17933007\n",
            " 0.19260621 0.20812908 0.18974673 0.18055556 0.18239379 0.17708333\n",
            " 0.17810458 0.18055556 0.17810458 0.17851307 0.19607843 0.18913399\n",
            " 0.18954248 0.19403595 0.19444444 0.20200163 0.19771242 0.19934641\n",
            " 0.19873366 0.1997549  0.2128268  0.21568627 0.20445261 0.21772876\n",
            " 0.21098856 0.21425654 0.19750817 0.18811275 0.17851307 0.17381536\n",
            " 0.16033497 0.16564542 0.17116013 0.17422386 0.18035131 0.17401961\n",
            " 0.16278595 0.16973039 0.17810458 0.17034314 0.16830065 0.17279412\n",
            " 0.17544935 0.18382353 0.19138072 0.18913399 0.19097222 0.17238562\n",
            " 0.16830065 0.1693219  0.17177288 0.16156046 0.14971405 0.1503268\n",
            " 0.15196078 0.14726307 0.14501634 0.14603758 0.12479575 0.13112745\n",
            " 0.11397059 0.1190768  0.12377451 0.13562092 0.12908497 0.13459967\n",
            " 0.12806373 0.13031046 0.12724673 0.13521242 0.14522059 0.15257353\n",
            " 0.14848856 0.14338235 0.14562908 0.15236928 0.15400327 0.14971405\n",
            " 0.1621732  0.16319444 0.16584967 0.17401502]\n",
            "1 day input [[0.17902757]]\n",
            "2 day input [0.14011438 0.13888889 0.13541667 0.14011438 0.1380719  0.13071895\n",
            " 0.13071895 0.12867647 0.11846405 0.14644608 0.14808007 0.15910948\n",
            " 0.15992647 0.15788399 0.16441993 0.17892157 0.17933007 0.19260621\n",
            " 0.20812908 0.18974673 0.18055556 0.18239379 0.17708333 0.17810458\n",
            " 0.18055556 0.17810458 0.17851307 0.19607843 0.18913399 0.18954248\n",
            " 0.19403595 0.19444444 0.20200163 0.19771242 0.19934641 0.19873366\n",
            " 0.1997549  0.2128268  0.21568627 0.20445261 0.21772876 0.21098856\n",
            " 0.21425654 0.19750817 0.18811275 0.17851307 0.17381536 0.16033497\n",
            " 0.16564542 0.17116013 0.17422386 0.18035131 0.17401961 0.16278595\n",
            " 0.16973039 0.17810458 0.17034314 0.16830065 0.17279412 0.17544935\n",
            " 0.18382353 0.19138072 0.18913399 0.19097222 0.17238562 0.16830065\n",
            " 0.1693219  0.17177288 0.16156046 0.14971405 0.1503268  0.15196078\n",
            " 0.14726307 0.14501634 0.14603758 0.12479575 0.13112745 0.11397059\n",
            " 0.1190768  0.12377451 0.13562092 0.12908497 0.13459967 0.12806373\n",
            " 0.13031046 0.12724673 0.13521242 0.14522059 0.15257353 0.14848856\n",
            " 0.14338235 0.14562908 0.15236928 0.15400327 0.14971405 0.1621732\n",
            " 0.16319444 0.16584967 0.17401502 0.17902757]\n",
            "2 day input [[0.18456064]]\n",
            "3 day input [0.13888889 0.13541667 0.14011438 0.1380719  0.13071895 0.13071895\n",
            " 0.12867647 0.11846405 0.14644608 0.14808007 0.15910948 0.15992647\n",
            " 0.15788399 0.16441993 0.17892157 0.17933007 0.19260621 0.20812908\n",
            " 0.18974673 0.18055556 0.18239379 0.17708333 0.17810458 0.18055556\n",
            " 0.17810458 0.17851307 0.19607843 0.18913399 0.18954248 0.19403595\n",
            " 0.19444444 0.20200163 0.19771242 0.19934641 0.19873366 0.1997549\n",
            " 0.2128268  0.21568627 0.20445261 0.21772876 0.21098856 0.21425654\n",
            " 0.19750817 0.18811275 0.17851307 0.17381536 0.16033497 0.16564542\n",
            " 0.17116013 0.17422386 0.18035131 0.17401961 0.16278595 0.16973039\n",
            " 0.17810458 0.17034314 0.16830065 0.17279412 0.17544935 0.18382353\n",
            " 0.19138072 0.18913399 0.19097222 0.17238562 0.16830065 0.1693219\n",
            " 0.17177288 0.16156046 0.14971405 0.1503268  0.15196078 0.14726307\n",
            " 0.14501634 0.14603758 0.12479575 0.13112745 0.11397059 0.1190768\n",
            " 0.12377451 0.13562092 0.12908497 0.13459967 0.12806373 0.13031046\n",
            " 0.12724673 0.13521242 0.14522059 0.15257353 0.14848856 0.14338235\n",
            " 0.14562908 0.15236928 0.15400327 0.14971405 0.1621732  0.16319444\n",
            " 0.16584967 0.17401502 0.17902757 0.18456064]\n",
            "3 day input [[0.19021147]]\n",
            "4 day input [0.13541667 0.14011438 0.1380719  0.13071895 0.13071895 0.12867647\n",
            " 0.11846405 0.14644608 0.14808007 0.15910948 0.15992647 0.15788399\n",
            " 0.16441993 0.17892157 0.17933007 0.19260621 0.20812908 0.18974673\n",
            " 0.18055556 0.18239379 0.17708333 0.17810458 0.18055556 0.17810458\n",
            " 0.17851307 0.19607843 0.18913399 0.18954248 0.19403595 0.19444444\n",
            " 0.20200163 0.19771242 0.19934641 0.19873366 0.1997549  0.2128268\n",
            " 0.21568627 0.20445261 0.21772876 0.21098856 0.21425654 0.19750817\n",
            " 0.18811275 0.17851307 0.17381536 0.16033497 0.16564542 0.17116013\n",
            " 0.17422386 0.18035131 0.17401961 0.16278595 0.16973039 0.17810458\n",
            " 0.17034314 0.16830065 0.17279412 0.17544935 0.18382353 0.19138072\n",
            " 0.18913399 0.19097222 0.17238562 0.16830065 0.1693219  0.17177288\n",
            " 0.16156046 0.14971405 0.1503268  0.15196078 0.14726307 0.14501634\n",
            " 0.14603758 0.12479575 0.13112745 0.11397059 0.1190768  0.12377451\n",
            " 0.13562092 0.12908497 0.13459967 0.12806373 0.13031046 0.12724673\n",
            " 0.13521242 0.14522059 0.15257353 0.14848856 0.14338235 0.14562908\n",
            " 0.15236928 0.15400327 0.14971405 0.1621732  0.16319444 0.16584967\n",
            " 0.17401502 0.17902757 0.18456064 0.19021147]\n",
            "4 day input [[0.19578175]]\n",
            "5 day input [0.14011438 0.1380719  0.13071895 0.13071895 0.12867647 0.11846405\n",
            " 0.14644608 0.14808007 0.15910948 0.15992647 0.15788399 0.16441993\n",
            " 0.17892157 0.17933007 0.19260621 0.20812908 0.18974673 0.18055556\n",
            " 0.18239379 0.17708333 0.17810458 0.18055556 0.17810458 0.17851307\n",
            " 0.19607843 0.18913399 0.18954248 0.19403595 0.19444444 0.20200163\n",
            " 0.19771242 0.19934641 0.19873366 0.1997549  0.2128268  0.21568627\n",
            " 0.20445261 0.21772876 0.21098856 0.21425654 0.19750817 0.18811275\n",
            " 0.17851307 0.17381536 0.16033497 0.16564542 0.17116013 0.17422386\n",
            " 0.18035131 0.17401961 0.16278595 0.16973039 0.17810458 0.17034314\n",
            " 0.16830065 0.17279412 0.17544935 0.18382353 0.19138072 0.18913399\n",
            " 0.19097222 0.17238562 0.16830065 0.1693219  0.17177288 0.16156046\n",
            " 0.14971405 0.1503268  0.15196078 0.14726307 0.14501634 0.14603758\n",
            " 0.12479575 0.13112745 0.11397059 0.1190768  0.12377451 0.13562092\n",
            " 0.12908497 0.13459967 0.12806373 0.13031046 0.12724673 0.13521242\n",
            " 0.14522059 0.15257353 0.14848856 0.14338235 0.14562908 0.15236928\n",
            " 0.15400327 0.14971405 0.1621732  0.16319444 0.16584967 0.17401502\n",
            " 0.17902757 0.18456064 0.19021147 0.19578175]\n",
            "5 day input [[0.20120476]]\n",
            "6 day input [0.1380719  0.13071895 0.13071895 0.12867647 0.11846405 0.14644608\n",
            " 0.14808007 0.15910948 0.15992647 0.15788399 0.16441993 0.17892157\n",
            " 0.17933007 0.19260621 0.20812908 0.18974673 0.18055556 0.18239379\n",
            " 0.17708333 0.17810458 0.18055556 0.17810458 0.17851307 0.19607843\n",
            " 0.18913399 0.18954248 0.19403595 0.19444444 0.20200163 0.19771242\n",
            " 0.19934641 0.19873366 0.1997549  0.2128268  0.21568627 0.20445261\n",
            " 0.21772876 0.21098856 0.21425654 0.19750817 0.18811275 0.17851307\n",
            " 0.17381536 0.16033497 0.16564542 0.17116013 0.17422386 0.18035131\n",
            " 0.17401961 0.16278595 0.16973039 0.17810458 0.17034314 0.16830065\n",
            " 0.17279412 0.17544935 0.18382353 0.19138072 0.18913399 0.19097222\n",
            " 0.17238562 0.16830065 0.1693219  0.17177288 0.16156046 0.14971405\n",
            " 0.1503268  0.15196078 0.14726307 0.14501634 0.14603758 0.12479575\n",
            " 0.13112745 0.11397059 0.1190768  0.12377451 0.13562092 0.12908497\n",
            " 0.13459967 0.12806373 0.13031046 0.12724673 0.13521242 0.14522059\n",
            " 0.15257353 0.14848856 0.14338235 0.14562908 0.15236928 0.15400327\n",
            " 0.14971405 0.1621732  0.16319444 0.16584967 0.17401502 0.17902757\n",
            " 0.18456064 0.19021147 0.19578175 0.20120476]\n",
            "6 day input [[0.20647092]]\n",
            "7 day input [0.13071895 0.13071895 0.12867647 0.11846405 0.14644608 0.14808007\n",
            " 0.15910948 0.15992647 0.15788399 0.16441993 0.17892157 0.17933007\n",
            " 0.19260621 0.20812908 0.18974673 0.18055556 0.18239379 0.17708333\n",
            " 0.17810458 0.18055556 0.17810458 0.17851307 0.19607843 0.18913399\n",
            " 0.18954248 0.19403595 0.19444444 0.20200163 0.19771242 0.19934641\n",
            " 0.19873366 0.1997549  0.2128268  0.21568627 0.20445261 0.21772876\n",
            " 0.21098856 0.21425654 0.19750817 0.18811275 0.17851307 0.17381536\n",
            " 0.16033497 0.16564542 0.17116013 0.17422386 0.18035131 0.17401961\n",
            " 0.16278595 0.16973039 0.17810458 0.17034314 0.16830065 0.17279412\n",
            " 0.17544935 0.18382353 0.19138072 0.18913399 0.19097222 0.17238562\n",
            " 0.16830065 0.1693219  0.17177288 0.16156046 0.14971405 0.1503268\n",
            " 0.15196078 0.14726307 0.14501634 0.14603758 0.12479575 0.13112745\n",
            " 0.11397059 0.1190768  0.12377451 0.13562092 0.12908497 0.13459967\n",
            " 0.12806373 0.13031046 0.12724673 0.13521242 0.14522059 0.15257353\n",
            " 0.14848856 0.14338235 0.14562908 0.15236928 0.15400327 0.14971405\n",
            " 0.1621732  0.16319444 0.16584967 0.17401502 0.17902757 0.18456064\n",
            " 0.19021147 0.19578175 0.20120476 0.20647092]\n",
            "7 day input [[0.21159303]]\n",
            "8 day input [0.13071895 0.12867647 0.11846405 0.14644608 0.14808007 0.15910948\n",
            " 0.15992647 0.15788399 0.16441993 0.17892157 0.17933007 0.19260621\n",
            " 0.20812908 0.18974673 0.18055556 0.18239379 0.17708333 0.17810458\n",
            " 0.18055556 0.17810458 0.17851307 0.19607843 0.18913399 0.18954248\n",
            " 0.19403595 0.19444444 0.20200163 0.19771242 0.19934641 0.19873366\n",
            " 0.1997549  0.2128268  0.21568627 0.20445261 0.21772876 0.21098856\n",
            " 0.21425654 0.19750817 0.18811275 0.17851307 0.17381536 0.16033497\n",
            " 0.16564542 0.17116013 0.17422386 0.18035131 0.17401961 0.16278595\n",
            " 0.16973039 0.17810458 0.17034314 0.16830065 0.17279412 0.17544935\n",
            " 0.18382353 0.19138072 0.18913399 0.19097222 0.17238562 0.16830065\n",
            " 0.1693219  0.17177288 0.16156046 0.14971405 0.1503268  0.15196078\n",
            " 0.14726307 0.14501634 0.14603758 0.12479575 0.13112745 0.11397059\n",
            " 0.1190768  0.12377451 0.13562092 0.12908497 0.13459967 0.12806373\n",
            " 0.13031046 0.12724673 0.13521242 0.14522059 0.15257353 0.14848856\n",
            " 0.14338235 0.14562908 0.15236928 0.15400327 0.14971405 0.1621732\n",
            " 0.16319444 0.16584967 0.17401502 0.17902757 0.18456064 0.19021147\n",
            " 0.19578175 0.20120476 0.20647092 0.21159303]\n",
            "8 day input [[0.21659398]]\n",
            "9 day input [0.12867647 0.11846405 0.14644608 0.14808007 0.15910948 0.15992647\n",
            " 0.15788399 0.16441993 0.17892157 0.17933007 0.19260621 0.20812908\n",
            " 0.18974673 0.18055556 0.18239379 0.17708333 0.17810458 0.18055556\n",
            " 0.17810458 0.17851307 0.19607843 0.18913399 0.18954248 0.19403595\n",
            " 0.19444444 0.20200163 0.19771242 0.19934641 0.19873366 0.1997549\n",
            " 0.2128268  0.21568627 0.20445261 0.21772876 0.21098856 0.21425654\n",
            " 0.19750817 0.18811275 0.17851307 0.17381536 0.16033497 0.16564542\n",
            " 0.17116013 0.17422386 0.18035131 0.17401961 0.16278595 0.16973039\n",
            " 0.17810458 0.17034314 0.16830065 0.17279412 0.17544935 0.18382353\n",
            " 0.19138072 0.18913399 0.19097222 0.17238562 0.16830065 0.1693219\n",
            " 0.17177288 0.16156046 0.14971405 0.1503268  0.15196078 0.14726307\n",
            " 0.14501634 0.14603758 0.12479575 0.13112745 0.11397059 0.1190768\n",
            " 0.12377451 0.13562092 0.12908497 0.13459967 0.12806373 0.13031046\n",
            " 0.12724673 0.13521242 0.14522059 0.15257353 0.14848856 0.14338235\n",
            " 0.14562908 0.15236928 0.15400327 0.14971405 0.1621732  0.16319444\n",
            " 0.16584967 0.17401502 0.17902757 0.18456064 0.19021147 0.19578175\n",
            " 0.20120476 0.20647092 0.21159303 0.21659398]\n",
            "9 day input [[0.22150148]]\n",
            "10 day input [0.11846405 0.14644608 0.14808007 0.15910948 0.15992647 0.15788399\n",
            " 0.16441993 0.17892157 0.17933007 0.19260621 0.20812908 0.18974673\n",
            " 0.18055556 0.18239379 0.17708333 0.17810458 0.18055556 0.17810458\n",
            " 0.17851307 0.19607843 0.18913399 0.18954248 0.19403595 0.19444444\n",
            " 0.20200163 0.19771242 0.19934641 0.19873366 0.1997549  0.2128268\n",
            " 0.21568627 0.20445261 0.21772876 0.21098856 0.21425654 0.19750817\n",
            " 0.18811275 0.17851307 0.17381536 0.16033497 0.16564542 0.17116013\n",
            " 0.17422386 0.18035131 0.17401961 0.16278595 0.16973039 0.17810458\n",
            " 0.17034314 0.16830065 0.17279412 0.17544935 0.18382353 0.19138072\n",
            " 0.18913399 0.19097222 0.17238562 0.16830065 0.1693219  0.17177288\n",
            " 0.16156046 0.14971405 0.1503268  0.15196078 0.14726307 0.14501634\n",
            " 0.14603758 0.12479575 0.13112745 0.11397059 0.1190768  0.12377451\n",
            " 0.13562092 0.12908497 0.13459967 0.12806373 0.13031046 0.12724673\n",
            " 0.13521242 0.14522059 0.15257353 0.14848856 0.14338235 0.14562908\n",
            " 0.15236928 0.15400327 0.14971405 0.1621732  0.16319444 0.16584967\n",
            " 0.17401502 0.17902757 0.18456064 0.19021147 0.19578175 0.20120476\n",
            " 0.20647092 0.21159303 0.21659398 0.22150148]\n",
            "10 day input [[0.22634408]]\n",
            "11 day input [0.14644608 0.14808007 0.15910948 0.15992647 0.15788399 0.16441993\n",
            " 0.17892157 0.17933007 0.19260621 0.20812908 0.18974673 0.18055556\n",
            " 0.18239379 0.17708333 0.17810458 0.18055556 0.17810458 0.17851307\n",
            " 0.19607843 0.18913399 0.18954248 0.19403595 0.19444444 0.20200163\n",
            " 0.19771242 0.19934641 0.19873366 0.1997549  0.2128268  0.21568627\n",
            " 0.20445261 0.21772876 0.21098856 0.21425654 0.19750817 0.18811275\n",
            " 0.17851307 0.17381536 0.16033497 0.16564542 0.17116013 0.17422386\n",
            " 0.18035131 0.17401961 0.16278595 0.16973039 0.17810458 0.17034314\n",
            " 0.16830065 0.17279412 0.17544935 0.18382353 0.19138072 0.18913399\n",
            " 0.19097222 0.17238562 0.16830065 0.1693219  0.17177288 0.16156046\n",
            " 0.14971405 0.1503268  0.15196078 0.14726307 0.14501634 0.14603758\n",
            " 0.12479575 0.13112745 0.11397059 0.1190768  0.12377451 0.13562092\n",
            " 0.12908497 0.13459967 0.12806373 0.13031046 0.12724673 0.13521242\n",
            " 0.14522059 0.15257353 0.14848856 0.14338235 0.14562908 0.15236928\n",
            " 0.15400327 0.14971405 0.1621732  0.16319444 0.16584967 0.17401502\n",
            " 0.17902757 0.18456064 0.19021147 0.19578175 0.20120476 0.20647092\n",
            " 0.21159303 0.21659398 0.22150148 0.22634408]\n",
            "11 day input [[0.23114757]]\n",
            "12 day input [0.14808007 0.15910948 0.15992647 0.15788399 0.16441993 0.17892157\n",
            " 0.17933007 0.19260621 0.20812908 0.18974673 0.18055556 0.18239379\n",
            " 0.17708333 0.17810458 0.18055556 0.17810458 0.17851307 0.19607843\n",
            " 0.18913399 0.18954248 0.19403595 0.19444444 0.20200163 0.19771242\n",
            " 0.19934641 0.19873366 0.1997549  0.2128268  0.21568627 0.20445261\n",
            " 0.21772876 0.21098856 0.21425654 0.19750817 0.18811275 0.17851307\n",
            " 0.17381536 0.16033497 0.16564542 0.17116013 0.17422386 0.18035131\n",
            " 0.17401961 0.16278595 0.16973039 0.17810458 0.17034314 0.16830065\n",
            " 0.17279412 0.17544935 0.18382353 0.19138072 0.18913399 0.19097222\n",
            " 0.17238562 0.16830065 0.1693219  0.17177288 0.16156046 0.14971405\n",
            " 0.1503268  0.15196078 0.14726307 0.14501634 0.14603758 0.12479575\n",
            " 0.13112745 0.11397059 0.1190768  0.12377451 0.13562092 0.12908497\n",
            " 0.13459967 0.12806373 0.13031046 0.12724673 0.13521242 0.14522059\n",
            " 0.15257353 0.14848856 0.14338235 0.14562908 0.15236928 0.15400327\n",
            " 0.14971405 0.1621732  0.16319444 0.16584967 0.17401502 0.17902757\n",
            " 0.18456064 0.19021147 0.19578175 0.20120476 0.20647092 0.21159303\n",
            " 0.21659398 0.22150148 0.22634408 0.23114757]\n",
            "12 day input [[0.23593262]]\n",
            "13 day input [0.15910948 0.15992647 0.15788399 0.16441993 0.17892157 0.17933007\n",
            " 0.19260621 0.20812908 0.18974673 0.18055556 0.18239379 0.17708333\n",
            " 0.17810458 0.18055556 0.17810458 0.17851307 0.19607843 0.18913399\n",
            " 0.18954248 0.19403595 0.19444444 0.20200163 0.19771242 0.19934641\n",
            " 0.19873366 0.1997549  0.2128268  0.21568627 0.20445261 0.21772876\n",
            " 0.21098856 0.21425654 0.19750817 0.18811275 0.17851307 0.17381536\n",
            " 0.16033497 0.16564542 0.17116013 0.17422386 0.18035131 0.17401961\n",
            " 0.16278595 0.16973039 0.17810458 0.17034314 0.16830065 0.17279412\n",
            " 0.17544935 0.18382353 0.19138072 0.18913399 0.19097222 0.17238562\n",
            " 0.16830065 0.1693219  0.17177288 0.16156046 0.14971405 0.1503268\n",
            " 0.15196078 0.14726307 0.14501634 0.14603758 0.12479575 0.13112745\n",
            " 0.11397059 0.1190768  0.12377451 0.13562092 0.12908497 0.13459967\n",
            " 0.12806373 0.13031046 0.12724673 0.13521242 0.14522059 0.15257353\n",
            " 0.14848856 0.14338235 0.14562908 0.15236928 0.15400327 0.14971405\n",
            " 0.1621732  0.16319444 0.16584967 0.17401502 0.17902757 0.18456064\n",
            " 0.19021147 0.19578175 0.20120476 0.20647092 0.21159303 0.21659398\n",
            " 0.22150148 0.22634408 0.23114757 0.23593262]\n",
            "13 day input [[0.2407136]]\n",
            "14 day input [0.15992647 0.15788399 0.16441993 0.17892157 0.17933007 0.19260621\n",
            " 0.20812908 0.18974673 0.18055556 0.18239379 0.17708333 0.17810458\n",
            " 0.18055556 0.17810458 0.17851307 0.19607843 0.18913399 0.18954248\n",
            " 0.19403595 0.19444444 0.20200163 0.19771242 0.19934641 0.19873366\n",
            " 0.1997549  0.2128268  0.21568627 0.20445261 0.21772876 0.21098856\n",
            " 0.21425654 0.19750817 0.18811275 0.17851307 0.17381536 0.16033497\n",
            " 0.16564542 0.17116013 0.17422386 0.18035131 0.17401961 0.16278595\n",
            " 0.16973039 0.17810458 0.17034314 0.16830065 0.17279412 0.17544935\n",
            " 0.18382353 0.19138072 0.18913399 0.19097222 0.17238562 0.16830065\n",
            " 0.1693219  0.17177288 0.16156046 0.14971405 0.1503268  0.15196078\n",
            " 0.14726307 0.14501634 0.14603758 0.12479575 0.13112745 0.11397059\n",
            " 0.1190768  0.12377451 0.13562092 0.12908497 0.13459967 0.12806373\n",
            " 0.13031046 0.12724673 0.13521242 0.14522059 0.15257353 0.14848856\n",
            " 0.14338235 0.14562908 0.15236928 0.15400327 0.14971405 0.1621732\n",
            " 0.16319444 0.16584967 0.17401502 0.17902757 0.18456064 0.19021147\n",
            " 0.19578175 0.20120476 0.20647092 0.21159303 0.21659398 0.22150148\n",
            " 0.22634408 0.23114757 0.23593262 0.2407136 ]\n",
            "14 day input [[0.24549869]]\n",
            "15 day input [0.15788399 0.16441993 0.17892157 0.17933007 0.19260621 0.20812908\n",
            " 0.18974673 0.18055556 0.18239379 0.17708333 0.17810458 0.18055556\n",
            " 0.17810458 0.17851307 0.19607843 0.18913399 0.18954248 0.19403595\n",
            " 0.19444444 0.20200163 0.19771242 0.19934641 0.19873366 0.1997549\n",
            " 0.2128268  0.21568627 0.20445261 0.21772876 0.21098856 0.21425654\n",
            " 0.19750817 0.18811275 0.17851307 0.17381536 0.16033497 0.16564542\n",
            " 0.17116013 0.17422386 0.18035131 0.17401961 0.16278595 0.16973039\n",
            " 0.17810458 0.17034314 0.16830065 0.17279412 0.17544935 0.18382353\n",
            " 0.19138072 0.18913399 0.19097222 0.17238562 0.16830065 0.1693219\n",
            " 0.17177288 0.16156046 0.14971405 0.1503268  0.15196078 0.14726307\n",
            " 0.14501634 0.14603758 0.12479575 0.13112745 0.11397059 0.1190768\n",
            " 0.12377451 0.13562092 0.12908497 0.13459967 0.12806373 0.13031046\n",
            " 0.12724673 0.13521242 0.14522059 0.15257353 0.14848856 0.14338235\n",
            " 0.14562908 0.15236928 0.15400327 0.14971405 0.1621732  0.16319444\n",
            " 0.16584967 0.17401502 0.17902757 0.18456064 0.19021147 0.19578175\n",
            " 0.20120476 0.20647092 0.21159303 0.21659398 0.22150148 0.22634408\n",
            " 0.23114757 0.23593262 0.2407136  0.24549869]\n",
            "15 day input [[0.250291]]\n",
            "16 day input [0.16441993 0.17892157 0.17933007 0.19260621 0.20812908 0.18974673\n",
            " 0.18055556 0.18239379 0.17708333 0.17810458 0.18055556 0.17810458\n",
            " 0.17851307 0.19607843 0.18913399 0.18954248 0.19403595 0.19444444\n",
            " 0.20200163 0.19771242 0.19934641 0.19873366 0.1997549  0.2128268\n",
            " 0.21568627 0.20445261 0.21772876 0.21098856 0.21425654 0.19750817\n",
            " 0.18811275 0.17851307 0.17381536 0.16033497 0.16564542 0.17116013\n",
            " 0.17422386 0.18035131 0.17401961 0.16278595 0.16973039 0.17810458\n",
            " 0.17034314 0.16830065 0.17279412 0.17544935 0.18382353 0.19138072\n",
            " 0.18913399 0.19097222 0.17238562 0.16830065 0.1693219  0.17177288\n",
            " 0.16156046 0.14971405 0.1503268  0.15196078 0.14726307 0.14501634\n",
            " 0.14603758 0.12479575 0.13112745 0.11397059 0.1190768  0.12377451\n",
            " 0.13562092 0.12908497 0.13459967 0.12806373 0.13031046 0.12724673\n",
            " 0.13521242 0.14522059 0.15257353 0.14848856 0.14338235 0.14562908\n",
            " 0.15236928 0.15400327 0.14971405 0.1621732  0.16319444 0.16584967\n",
            " 0.17401502 0.17902757 0.18456064 0.19021147 0.19578175 0.20120476\n",
            " 0.20647092 0.21159303 0.21659398 0.22150148 0.22634408 0.23114757\n",
            " 0.23593262 0.2407136  0.24549869 0.25029099]\n",
            "16 day input [[0.25508967]]\n",
            "17 day input [0.17892157 0.17933007 0.19260621 0.20812908 0.18974673 0.18055556\n",
            " 0.18239379 0.17708333 0.17810458 0.18055556 0.17810458 0.17851307\n",
            " 0.19607843 0.18913399 0.18954248 0.19403595 0.19444444 0.20200163\n",
            " 0.19771242 0.19934641 0.19873366 0.1997549  0.2128268  0.21568627\n",
            " 0.20445261 0.21772876 0.21098856 0.21425654 0.19750817 0.18811275\n",
            " 0.17851307 0.17381536 0.16033497 0.16564542 0.17116013 0.17422386\n",
            " 0.18035131 0.17401961 0.16278595 0.16973039 0.17810458 0.17034314\n",
            " 0.16830065 0.17279412 0.17544935 0.18382353 0.19138072 0.18913399\n",
            " 0.19097222 0.17238562 0.16830065 0.1693219  0.17177288 0.16156046\n",
            " 0.14971405 0.1503268  0.15196078 0.14726307 0.14501634 0.14603758\n",
            " 0.12479575 0.13112745 0.11397059 0.1190768  0.12377451 0.13562092\n",
            " 0.12908497 0.13459967 0.12806373 0.13031046 0.12724673 0.13521242\n",
            " 0.14522059 0.15257353 0.14848856 0.14338235 0.14562908 0.15236928\n",
            " 0.15400327 0.14971405 0.1621732  0.16319444 0.16584967 0.17401502\n",
            " 0.17902757 0.18456064 0.19021147 0.19578175 0.20120476 0.20647092\n",
            " 0.21159303 0.21659398 0.22150148 0.22634408 0.23114757 0.23593262\n",
            " 0.2407136  0.24549869 0.25029099 0.25508967]\n",
            "17 day input [[0.25989208]]\n",
            "18 day input [0.17933007 0.19260621 0.20812908 0.18974673 0.18055556 0.18239379\n",
            " 0.17708333 0.17810458 0.18055556 0.17810458 0.17851307 0.19607843\n",
            " 0.18913399 0.18954248 0.19403595 0.19444444 0.20200163 0.19771242\n",
            " 0.19934641 0.19873366 0.1997549  0.2128268  0.21568627 0.20445261\n",
            " 0.21772876 0.21098856 0.21425654 0.19750817 0.18811275 0.17851307\n",
            " 0.17381536 0.16033497 0.16564542 0.17116013 0.17422386 0.18035131\n",
            " 0.17401961 0.16278595 0.16973039 0.17810458 0.17034314 0.16830065\n",
            " 0.17279412 0.17544935 0.18382353 0.19138072 0.18913399 0.19097222\n",
            " 0.17238562 0.16830065 0.1693219  0.17177288 0.16156046 0.14971405\n",
            " 0.1503268  0.15196078 0.14726307 0.14501634 0.14603758 0.12479575\n",
            " 0.13112745 0.11397059 0.1190768  0.12377451 0.13562092 0.12908497\n",
            " 0.13459967 0.12806373 0.13031046 0.12724673 0.13521242 0.14522059\n",
            " 0.15257353 0.14848856 0.14338235 0.14562908 0.15236928 0.15400327\n",
            " 0.14971405 0.1621732  0.16319444 0.16584967 0.17401502 0.17902757\n",
            " 0.18456064 0.19021147 0.19578175 0.20120476 0.20647092 0.21159303\n",
            " 0.21659398 0.22150148 0.22634408 0.23114757 0.23593262 0.2407136\n",
            " 0.24549869 0.25029099 0.25508967 0.25989208]\n",
            "18 day input [[0.26469472]]\n",
            "19 day input [0.19260621 0.20812908 0.18974673 0.18055556 0.18239379 0.17708333\n",
            " 0.17810458 0.18055556 0.17810458 0.17851307 0.19607843 0.18913399\n",
            " 0.18954248 0.19403595 0.19444444 0.20200163 0.19771242 0.19934641\n",
            " 0.19873366 0.1997549  0.2128268  0.21568627 0.20445261 0.21772876\n",
            " 0.21098856 0.21425654 0.19750817 0.18811275 0.17851307 0.17381536\n",
            " 0.16033497 0.16564542 0.17116013 0.17422386 0.18035131 0.17401961\n",
            " 0.16278595 0.16973039 0.17810458 0.17034314 0.16830065 0.17279412\n",
            " 0.17544935 0.18382353 0.19138072 0.18913399 0.19097222 0.17238562\n",
            " 0.16830065 0.1693219  0.17177288 0.16156046 0.14971405 0.1503268\n",
            " 0.15196078 0.14726307 0.14501634 0.14603758 0.12479575 0.13112745\n",
            " 0.11397059 0.1190768  0.12377451 0.13562092 0.12908497 0.13459967\n",
            " 0.12806373 0.13031046 0.12724673 0.13521242 0.14522059 0.15257353\n",
            " 0.14848856 0.14338235 0.14562908 0.15236928 0.15400327 0.14971405\n",
            " 0.1621732  0.16319444 0.16584967 0.17401502 0.17902757 0.18456064\n",
            " 0.19021147 0.19578175 0.20120476 0.20647092 0.21159303 0.21659398\n",
            " 0.22150148 0.22634408 0.23114757 0.23593262 0.2407136  0.24549869\n",
            " 0.25029099 0.25508967 0.25989208 0.26469472]\n",
            "19 day input [[0.2694947]]\n",
            "20 day input [0.20812908 0.18974673 0.18055556 0.18239379 0.17708333 0.17810458\n",
            " 0.18055556 0.17810458 0.17851307 0.19607843 0.18913399 0.18954248\n",
            " 0.19403595 0.19444444 0.20200163 0.19771242 0.19934641 0.19873366\n",
            " 0.1997549  0.2128268  0.21568627 0.20445261 0.21772876 0.21098856\n",
            " 0.21425654 0.19750817 0.18811275 0.17851307 0.17381536 0.16033497\n",
            " 0.16564542 0.17116013 0.17422386 0.18035131 0.17401961 0.16278595\n",
            " 0.16973039 0.17810458 0.17034314 0.16830065 0.17279412 0.17544935\n",
            " 0.18382353 0.19138072 0.18913399 0.19097222 0.17238562 0.16830065\n",
            " 0.1693219  0.17177288 0.16156046 0.14971405 0.1503268  0.15196078\n",
            " 0.14726307 0.14501634 0.14603758 0.12479575 0.13112745 0.11397059\n",
            " 0.1190768  0.12377451 0.13562092 0.12908497 0.13459967 0.12806373\n",
            " 0.13031046 0.12724673 0.13521242 0.14522059 0.15257353 0.14848856\n",
            " 0.14338235 0.14562908 0.15236928 0.15400327 0.14971405 0.1621732\n",
            " 0.16319444 0.16584967 0.17401502 0.17902757 0.18456064 0.19021147\n",
            " 0.19578175 0.20120476 0.20647092 0.21159303 0.21659398 0.22150148\n",
            " 0.22634408 0.23114757 0.23593262 0.2407136  0.24549869 0.25029099\n",
            " 0.25508967 0.25989208 0.26469472 0.26949471]\n",
            "20 day input [[0.27429056]]\n",
            "21 day input [0.18974673 0.18055556 0.18239379 0.17708333 0.17810458 0.18055556\n",
            " 0.17810458 0.17851307 0.19607843 0.18913399 0.18954248 0.19403595\n",
            " 0.19444444 0.20200163 0.19771242 0.19934641 0.19873366 0.1997549\n",
            " 0.2128268  0.21568627 0.20445261 0.21772876 0.21098856 0.21425654\n",
            " 0.19750817 0.18811275 0.17851307 0.17381536 0.16033497 0.16564542\n",
            " 0.17116013 0.17422386 0.18035131 0.17401961 0.16278595 0.16973039\n",
            " 0.17810458 0.17034314 0.16830065 0.17279412 0.17544935 0.18382353\n",
            " 0.19138072 0.18913399 0.19097222 0.17238562 0.16830065 0.1693219\n",
            " 0.17177288 0.16156046 0.14971405 0.1503268  0.15196078 0.14726307\n",
            " 0.14501634 0.14603758 0.12479575 0.13112745 0.11397059 0.1190768\n",
            " 0.12377451 0.13562092 0.12908497 0.13459967 0.12806373 0.13031046\n",
            " 0.12724673 0.13521242 0.14522059 0.15257353 0.14848856 0.14338235\n",
            " 0.14562908 0.15236928 0.15400327 0.14971405 0.1621732  0.16319444\n",
            " 0.16584967 0.17401502 0.17902757 0.18456064 0.19021147 0.19578175\n",
            " 0.20120476 0.20647092 0.21159303 0.21659398 0.22150148 0.22634408\n",
            " 0.23114757 0.23593262 0.2407136  0.24549869 0.25029099 0.25508967\n",
            " 0.25989208 0.26469472 0.26949471 0.27429056]\n",
            "21 day input [[0.27908263]]\n",
            "22 day input [0.18055556 0.18239379 0.17708333 0.17810458 0.18055556 0.17810458\n",
            " 0.17851307 0.19607843 0.18913399 0.18954248 0.19403595 0.19444444\n",
            " 0.20200163 0.19771242 0.19934641 0.19873366 0.1997549  0.2128268\n",
            " 0.21568627 0.20445261 0.21772876 0.21098856 0.21425654 0.19750817\n",
            " 0.18811275 0.17851307 0.17381536 0.16033497 0.16564542 0.17116013\n",
            " 0.17422386 0.18035131 0.17401961 0.16278595 0.16973039 0.17810458\n",
            " 0.17034314 0.16830065 0.17279412 0.17544935 0.18382353 0.19138072\n",
            " 0.18913399 0.19097222 0.17238562 0.16830065 0.1693219  0.17177288\n",
            " 0.16156046 0.14971405 0.1503268  0.15196078 0.14726307 0.14501634\n",
            " 0.14603758 0.12479575 0.13112745 0.11397059 0.1190768  0.12377451\n",
            " 0.13562092 0.12908497 0.13459967 0.12806373 0.13031046 0.12724673\n",
            " 0.13521242 0.14522059 0.15257353 0.14848856 0.14338235 0.14562908\n",
            " 0.15236928 0.15400327 0.14971405 0.1621732  0.16319444 0.16584967\n",
            " 0.17401502 0.17902757 0.18456064 0.19021147 0.19578175 0.20120476\n",
            " 0.20647092 0.21159303 0.21659398 0.22150148 0.22634408 0.23114757\n",
            " 0.23593262 0.2407136  0.24549869 0.25029099 0.25508967 0.25989208\n",
            " 0.26469472 0.26949471 0.27429056 0.27908263]\n",
            "22 day input [[0.2838728]]\n",
            "23 day input [0.18239379 0.17708333 0.17810458 0.18055556 0.17810458 0.17851307\n",
            " 0.19607843 0.18913399 0.18954248 0.19403595 0.19444444 0.20200163\n",
            " 0.19771242 0.19934641 0.19873366 0.1997549  0.2128268  0.21568627\n",
            " 0.20445261 0.21772876 0.21098856 0.21425654 0.19750817 0.18811275\n",
            " 0.17851307 0.17381536 0.16033497 0.16564542 0.17116013 0.17422386\n",
            " 0.18035131 0.17401961 0.16278595 0.16973039 0.17810458 0.17034314\n",
            " 0.16830065 0.17279412 0.17544935 0.18382353 0.19138072 0.18913399\n",
            " 0.19097222 0.17238562 0.16830065 0.1693219  0.17177288 0.16156046\n",
            " 0.14971405 0.1503268  0.15196078 0.14726307 0.14501634 0.14603758\n",
            " 0.12479575 0.13112745 0.11397059 0.1190768  0.12377451 0.13562092\n",
            " 0.12908497 0.13459967 0.12806373 0.13031046 0.12724673 0.13521242\n",
            " 0.14522059 0.15257353 0.14848856 0.14338235 0.14562908 0.15236928\n",
            " 0.15400327 0.14971405 0.1621732  0.16319444 0.16584967 0.17401502\n",
            " 0.17902757 0.18456064 0.19021147 0.19578175 0.20120476 0.20647092\n",
            " 0.21159303 0.21659398 0.22150148 0.22634408 0.23114757 0.23593262\n",
            " 0.2407136  0.24549869 0.25029099 0.25508967 0.25989208 0.26469472\n",
            " 0.26949471 0.27429056 0.27908263 0.28387281]\n",
            "23 day input [[0.2886649]]\n",
            "24 day input [0.17708333 0.17810458 0.18055556 0.17810458 0.17851307 0.19607843\n",
            " 0.18913399 0.18954248 0.19403595 0.19444444 0.20200163 0.19771242\n",
            " 0.19934641 0.19873366 0.1997549  0.2128268  0.21568627 0.20445261\n",
            " 0.21772876 0.21098856 0.21425654 0.19750817 0.18811275 0.17851307\n",
            " 0.17381536 0.16033497 0.16564542 0.17116013 0.17422386 0.18035131\n",
            " 0.17401961 0.16278595 0.16973039 0.17810458 0.17034314 0.16830065\n",
            " 0.17279412 0.17544935 0.18382353 0.19138072 0.18913399 0.19097222\n",
            " 0.17238562 0.16830065 0.1693219  0.17177288 0.16156046 0.14971405\n",
            " 0.1503268  0.15196078 0.14726307 0.14501634 0.14603758 0.12479575\n",
            " 0.13112745 0.11397059 0.1190768  0.12377451 0.13562092 0.12908497\n",
            " 0.13459967 0.12806373 0.13031046 0.12724673 0.13521242 0.14522059\n",
            " 0.15257353 0.14848856 0.14338235 0.14562908 0.15236928 0.15400327\n",
            " 0.14971405 0.1621732  0.16319444 0.16584967 0.17401502 0.17902757\n",
            " 0.18456064 0.19021147 0.19578175 0.20120476 0.20647092 0.21159303\n",
            " 0.21659398 0.22150148 0.22634408 0.23114757 0.23593262 0.2407136\n",
            " 0.24549869 0.25029099 0.25508967 0.25989208 0.26469472 0.26949471\n",
            " 0.27429056 0.27908263 0.28387281 0.28866491]\n",
            "24 day input [[0.2934637]]\n",
            "25 day input [0.17810458 0.18055556 0.17810458 0.17851307 0.19607843 0.18913399\n",
            " 0.18954248 0.19403595 0.19444444 0.20200163 0.19771242 0.19934641\n",
            " 0.19873366 0.1997549  0.2128268  0.21568627 0.20445261 0.21772876\n",
            " 0.21098856 0.21425654 0.19750817 0.18811275 0.17851307 0.17381536\n",
            " 0.16033497 0.16564542 0.17116013 0.17422386 0.18035131 0.17401961\n",
            " 0.16278595 0.16973039 0.17810458 0.17034314 0.16830065 0.17279412\n",
            " 0.17544935 0.18382353 0.19138072 0.18913399 0.19097222 0.17238562\n",
            " 0.16830065 0.1693219  0.17177288 0.16156046 0.14971405 0.1503268\n",
            " 0.15196078 0.14726307 0.14501634 0.14603758 0.12479575 0.13112745\n",
            " 0.11397059 0.1190768  0.12377451 0.13562092 0.12908497 0.13459967\n",
            " 0.12806373 0.13031046 0.12724673 0.13521242 0.14522059 0.15257353\n",
            " 0.14848856 0.14338235 0.14562908 0.15236928 0.15400327 0.14971405\n",
            " 0.1621732  0.16319444 0.16584967 0.17401502 0.17902757 0.18456064\n",
            " 0.19021147 0.19578175 0.20120476 0.20647092 0.21159303 0.21659398\n",
            " 0.22150148 0.22634408 0.23114757 0.23593262 0.2407136  0.24549869\n",
            " 0.25029099 0.25508967 0.25989208 0.26469472 0.26949471 0.27429056\n",
            " 0.27908263 0.28387281 0.28866491 0.29346371]\n",
            "25 day input [[0.29827476]]\n",
            "26 day input [0.18055556 0.17810458 0.17851307 0.19607843 0.18913399 0.18954248\n",
            " 0.19403595 0.19444444 0.20200163 0.19771242 0.19934641 0.19873366\n",
            " 0.1997549  0.2128268  0.21568627 0.20445261 0.21772876 0.21098856\n",
            " 0.21425654 0.19750817 0.18811275 0.17851307 0.17381536 0.16033497\n",
            " 0.16564542 0.17116013 0.17422386 0.18035131 0.17401961 0.16278595\n",
            " 0.16973039 0.17810458 0.17034314 0.16830065 0.17279412 0.17544935\n",
            " 0.18382353 0.19138072 0.18913399 0.19097222 0.17238562 0.16830065\n",
            " 0.1693219  0.17177288 0.16156046 0.14971405 0.1503268  0.15196078\n",
            " 0.14726307 0.14501634 0.14603758 0.12479575 0.13112745 0.11397059\n",
            " 0.1190768  0.12377451 0.13562092 0.12908497 0.13459967 0.12806373\n",
            " 0.13031046 0.12724673 0.13521242 0.14522059 0.15257353 0.14848856\n",
            " 0.14338235 0.14562908 0.15236928 0.15400327 0.14971405 0.1621732\n",
            " 0.16319444 0.16584967 0.17401502 0.17902757 0.18456064 0.19021147\n",
            " 0.19578175 0.20120476 0.20647092 0.21159303 0.21659398 0.22150148\n",
            " 0.22634408 0.23114757 0.23593262 0.2407136  0.24549869 0.25029099\n",
            " 0.25508967 0.25989208 0.26469472 0.26949471 0.27429056 0.27908263\n",
            " 0.28387281 0.28866491 0.29346371 0.29827476]\n",
            "26 day input [[0.30310377]]\n",
            "27 day input [0.17810458 0.17851307 0.19607843 0.18913399 0.18954248 0.19403595\n",
            " 0.19444444 0.20200163 0.19771242 0.19934641 0.19873366 0.1997549\n",
            " 0.2128268  0.21568627 0.20445261 0.21772876 0.21098856 0.21425654\n",
            " 0.19750817 0.18811275 0.17851307 0.17381536 0.16033497 0.16564542\n",
            " 0.17116013 0.17422386 0.18035131 0.17401961 0.16278595 0.16973039\n",
            " 0.17810458 0.17034314 0.16830065 0.17279412 0.17544935 0.18382353\n",
            " 0.19138072 0.18913399 0.19097222 0.17238562 0.16830065 0.1693219\n",
            " 0.17177288 0.16156046 0.14971405 0.1503268  0.15196078 0.14726307\n",
            " 0.14501634 0.14603758 0.12479575 0.13112745 0.11397059 0.1190768\n",
            " 0.12377451 0.13562092 0.12908497 0.13459967 0.12806373 0.13031046\n",
            " 0.12724673 0.13521242 0.14522059 0.15257353 0.14848856 0.14338235\n",
            " 0.14562908 0.15236928 0.15400327 0.14971405 0.1621732  0.16319444\n",
            " 0.16584967 0.17401502 0.17902757 0.18456064 0.19021147 0.19578175\n",
            " 0.20120476 0.20647092 0.21159303 0.21659398 0.22150148 0.22634408\n",
            " 0.23114757 0.23593262 0.2407136  0.24549869 0.25029099 0.25508967\n",
            " 0.25989208 0.26469472 0.26949471 0.27429056 0.27908263 0.28387281\n",
            " 0.28866491 0.29346371 0.29827476 0.30310377]\n",
            "27 day input [[0.3079567]]\n",
            "28 day input [0.17851307 0.19607843 0.18913399 0.18954248 0.19403595 0.19444444\n",
            " 0.20200163 0.19771242 0.19934641 0.19873366 0.1997549  0.2128268\n",
            " 0.21568627 0.20445261 0.21772876 0.21098856 0.21425654 0.19750817\n",
            " 0.18811275 0.17851307 0.17381536 0.16033497 0.16564542 0.17116013\n",
            " 0.17422386 0.18035131 0.17401961 0.16278595 0.16973039 0.17810458\n",
            " 0.17034314 0.16830065 0.17279412 0.17544935 0.18382353 0.19138072\n",
            " 0.18913399 0.19097222 0.17238562 0.16830065 0.1693219  0.17177288\n",
            " 0.16156046 0.14971405 0.1503268  0.15196078 0.14726307 0.14501634\n",
            " 0.14603758 0.12479575 0.13112745 0.11397059 0.1190768  0.12377451\n",
            " 0.13562092 0.12908497 0.13459967 0.12806373 0.13031046 0.12724673\n",
            " 0.13521242 0.14522059 0.15257353 0.14848856 0.14338235 0.14562908\n",
            " 0.15236928 0.15400327 0.14971405 0.1621732  0.16319444 0.16584967\n",
            " 0.17401502 0.17902757 0.18456064 0.19021147 0.19578175 0.20120476\n",
            " 0.20647092 0.21159303 0.21659398 0.22150148 0.22634408 0.23114757\n",
            " 0.23593262 0.2407136  0.24549869 0.25029099 0.25508967 0.25989208\n",
            " 0.26469472 0.26949471 0.27429056 0.27908263 0.28387281 0.28866491\n",
            " 0.29346371 0.29827476 0.30310377 0.3079567 ]\n",
            "28 day input [[0.31283867]]\n",
            "29 day input [0.19607843 0.18913399 0.18954248 0.19403595 0.19444444 0.20200163\n",
            " 0.19771242 0.19934641 0.19873366 0.1997549  0.2128268  0.21568627\n",
            " 0.20445261 0.21772876 0.21098856 0.21425654 0.19750817 0.18811275\n",
            " 0.17851307 0.17381536 0.16033497 0.16564542 0.17116013 0.17422386\n",
            " 0.18035131 0.17401961 0.16278595 0.16973039 0.17810458 0.17034314\n",
            " 0.16830065 0.17279412 0.17544935 0.18382353 0.19138072 0.18913399\n",
            " 0.19097222 0.17238562 0.16830065 0.1693219  0.17177288 0.16156046\n",
            " 0.14971405 0.1503268  0.15196078 0.14726307 0.14501634 0.14603758\n",
            " 0.12479575 0.13112745 0.11397059 0.1190768  0.12377451 0.13562092\n",
            " 0.12908497 0.13459967 0.12806373 0.13031046 0.12724673 0.13521242\n",
            " 0.14522059 0.15257353 0.14848856 0.14338235 0.14562908 0.15236928\n",
            " 0.15400327 0.14971405 0.1621732  0.16319444 0.16584967 0.17401502\n",
            " 0.17902757 0.18456064 0.19021147 0.19578175 0.20120476 0.20647092\n",
            " 0.21159303 0.21659398 0.22150148 0.22634408 0.23114757 0.23593262\n",
            " 0.2407136  0.24549869 0.25029099 0.25508967 0.25989208 0.26469472\n",
            " 0.26949471 0.27429056 0.27908263 0.28387281 0.28866491 0.29346371\n",
            " 0.29827476 0.30310377 0.3079567  0.31283867]\n",
            "29 day input [[0.31775483]]\n"
          ]
        }
      ]
    },
    {
      "cell_type": "code",
      "metadata": {
        "colab": {
          "base_uri": "https://localhost:8080/"
        },
        "id": "kqjhMmTUE001",
        "outputId": "228647cb-3226-4deb-9fd9-b32ef970900a"
      },
      "source": [
        "day_new = np.arange(1,101)\n",
        "day_pred = np.arange(101,131)\n",
        "df3 = close_data.tolist()\n",
        "df3.extend(list_out)\n",
        "len(close_data)"
      ],
      "execution_count": null,
      "outputs": [
        {
          "output_type": "execute_result",
          "data": {
            "text/plain": [
              "2035"
            ]
          },
          "metadata": {},
          "execution_count": 27
        }
      ]
    },
    {
      "cell_type": "code",
      "metadata": {
        "colab": {
          "base_uri": "https://localhost:8080/",
          "height": 282
        },
        "id": "tknGMASkFPdk",
        "outputId": "58312938-3574-4d47-f9ad-caa18cd25ff8"
      },
      "source": [
        "plt.plot(day_new,scaler.inverse_transform(close_data[1935:]))\n",
        "plt.plot(day_pred,scaler.inverse_transform(list_out))"
      ],
      "execution_count": null,
      "outputs": [
        {
          "output_type": "execute_result",
          "data": {
            "text/plain": [
              "[<matplotlib.lines.Line2D at 0x7f15cc151950>]"
            ]
          },
          "metadata": {},
          "execution_count": 29
        },
        {
          "output_type": "display_data",
          "data": {
            "image/png": "[encoded data removed]",
            "text/plain": [
              "<Figure size 432x288 with 1 Axes>"
            ]
          },
          "metadata": {
            "needs_background": "light"
          }
        }
      ]
    }
  ]
}